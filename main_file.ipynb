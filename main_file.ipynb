{
  "nbformat": 4,
  "nbformat_minor": 0,
  "metadata": {
    "colab": {
      "provenance": [],
      "gpuType": "T4"
    },
    "kernelspec": {
      "name": "python3",
      "display_name": "Python 3"
    },
    "language_info": {
      "name": "python"
    },
    "accelerator": "GPU"
  },
  "cells": [
    {
      "cell_type": "code",
      "execution_count": 1,
      "metadata": {
        "id": "G7Gglk0fWsh3"
      },
      "outputs": [],
      "source": [
        "import tensorflow as tf\n",
        "from tensorflow.keras import datasets, layers, models\n",
        "import numpy as np\n",
        "import matplotlib.pyplot as plt\n",
        "import os"
      ]
    },
    {
      "cell_type": "code",
      "source": [
        "# Load CIFAR-10 dataset\n",
        "(x_train, y_train), (x_test, y_test) = datasets.cifar10.load_data()"
      ],
      "metadata": {
        "colab": {
          "base_uri": "https://localhost:8080/"
        },
        "id": "5EsCXbFUWwkM",
        "outputId": "3084fab7-ee23-4e42-cf40-9522ff68cd03"
      },
      "execution_count": 2,
      "outputs": [
        {
          "output_type": "stream",
          "name": "stdout",
          "text": [
            "Downloading data from https://www.cs.toronto.edu/~kriz/cifar-10-python.tar.gz\n",
            "\u001b[1m170498071/170498071\u001b[0m \u001b[32m━━━━━━━━━━━━━━━━━━━━\u001b[0m\u001b[37m\u001b[0m \u001b[1m4s\u001b[0m 0us/step\n"
          ]
        }
      ]
    },
    {
      "cell_type": "code",
      "source": [
        "# Normalize pixel values\n",
        "x_train, x_test = x_train / 255.0, x_test / 255.0"
      ],
      "metadata": {
        "id": "rsW-vrmBWxK9"
      },
      "execution_count": 3,
      "outputs": []
    },
    {
      "cell_type": "code",
      "source": [
        "# Save CIFAR-10 numpy arrays to disk\n",
        "os.makedirs('saved_data', exist_ok=True)\n",
        "np.save('saved_data/x_train.npy', x_train)\n",
        "np.save('saved_data/y_train.npy', y_train)\n",
        "np.save('saved_data/x_test.npy', x_test)\n",
        "np.save('saved_data/y_test.npy', y_test)\n",
        "print(\"Saved CIFAR-10 dataset arrays to 'saved_data/' directory\")"
      ],
      "metadata": {
        "colab": {
          "base_uri": "https://localhost:8080/"
        },
        "id": "5UQqsxp0Wzfe",
        "outputId": "907dc749-4841-463a-cb9a-9dd601d6a08b"
      },
      "execution_count": 4,
      "outputs": [
        {
          "output_type": "stream",
          "name": "stdout",
          "text": [
            "Saved CIFAR-10 dataset arrays to 'saved_data/' directory\n"
          ]
        }
      ]
    },
    {
      "cell_type": "code",
      "source": [
        "# One-hot encode labels\n",
        "num_classes = 10\n",
        "y_train_ohe = tf.keras.utils.to_categorical(y_train, num_classes)\n",
        "y_test_ohe = tf.keras.utils.to_categorical(y_test, num_classes)"
      ],
      "metadata": {
        "id": "L5owJyVhW189"
      },
      "execution_count": 5,
      "outputs": []
    },
    {
      "cell_type": "code",
      "source": [
        "# Define CNN model architecture\n",
        "model = models.Sequential([\n",
        "    layers.Conv2D(32, (3,3), activation='relu', padding='same', input_shape=(32, 32, 3)),\n",
        "    layers.MaxPooling2D(2, 2),\n",
        "    layers.Conv2D(64, (3,3), activation='relu', padding='same'),\n",
        "    layers.MaxPooling2D(2, 2),\n",
        "    layers.Conv2D(64, (3,3), activation='relu', padding='same'),\n",
        "    layers.Flatten(),\n",
        "    layers.Dense(64, activation='relu'),\n",
        "    layers.Dropout(0.5),\n",
        "    layers.Dense(num_classes, activation='softmax')\n",
        "])\n",
        "\n",
        "model.compile(optimizer='adam',\n",
        "              loss='categorical_crossentropy',\n",
        "              metrics=['accuracy'])\n"
      ],
      "metadata": {
        "colab": {
          "base_uri": "https://localhost:8080/"
        },
        "id": "334hCEn_W34q",
        "outputId": "243b6695-ffb0-4ec0-934a-d8acf109c8df"
      },
      "execution_count": 6,
      "outputs": [
        {
          "output_type": "stream",
          "name": "stderr",
          "text": [
            "/usr/local/lib/python3.12/dist-packages/keras/src/layers/convolutional/base_conv.py:113: UserWarning: Do not pass an `input_shape`/`input_dim` argument to a layer. When using Sequential models, prefer using an `Input(shape)` object as the first layer in the model instead.\n",
            "  super().__init__(activity_regularizer=activity_regularizer, **kwargs)\n"
          ]
        }
      ]
    },
    {
      "cell_type": "code",
      "source": [
        "# Train the model\n",
        "history = model.fit(x_train, y_train_ohe, epochs=15, batch_size=64, validation_split=0.2, verbose=2)\n"
      ],
      "metadata": {
        "colab": {
          "base_uri": "https://localhost:8080/"
        },
        "id": "igtQTCsaW8ZN",
        "outputId": "3c8f751a-e0f6-4112-e104-a9292d8d95d3"
      },
      "execution_count": 7,
      "outputs": [
        {
          "output_type": "stream",
          "name": "stdout",
          "text": [
            "Epoch 1/15\n",
            "625/625 - 9s - 15ms/step - accuracy: 0.3508 - loss: 1.7610 - val_accuracy: 0.4965 - val_loss: 1.4059\n",
            "Epoch 2/15\n",
            "625/625 - 3s - 4ms/step - accuracy: 0.4792 - loss: 1.4292 - val_accuracy: 0.5789 - val_loss: 1.2037\n",
            "Epoch 3/15\n",
            "625/625 - 3s - 5ms/step - accuracy: 0.5392 - loss: 1.2852 - val_accuracy: 0.6298 - val_loss: 1.0576\n",
            "Epoch 4/15\n",
            "625/625 - 3s - 5ms/step - accuracy: 0.5814 - loss: 1.1737 - val_accuracy: 0.6547 - val_loss: 0.9865\n",
            "Epoch 5/15\n",
            "625/625 - 3s - 4ms/step - accuracy: 0.6091 - loss: 1.1028 - val_accuracy: 0.6665 - val_loss: 0.9384\n",
            "Epoch 6/15\n",
            "625/625 - 3s - 4ms/step - accuracy: 0.6369 - loss: 1.0315 - val_accuracy: 0.6908 - val_loss: 0.8985\n",
            "Epoch 7/15\n",
            "625/625 - 3s - 4ms/step - accuracy: 0.6547 - loss: 0.9771 - val_accuracy: 0.6946 - val_loss: 0.8789\n",
            "Epoch 8/15\n",
            "625/625 - 3s - 5ms/step - accuracy: 0.6693 - loss: 0.9255 - val_accuracy: 0.7184 - val_loss: 0.8307\n",
            "Epoch 9/15\n",
            "625/625 - 3s - 5ms/step - accuracy: 0.6855 - loss: 0.8889 - val_accuracy: 0.7206 - val_loss: 0.8205\n",
            "Epoch 10/15\n",
            "625/625 - 3s - 4ms/step - accuracy: 0.7049 - loss: 0.8379 - val_accuracy: 0.7220 - val_loss: 0.8259\n",
            "Epoch 11/15\n",
            "625/625 - 3s - 4ms/step - accuracy: 0.7200 - loss: 0.7939 - val_accuracy: 0.7195 - val_loss: 0.8179\n",
            "Epoch 12/15\n",
            "625/625 - 3s - 5ms/step - accuracy: 0.7288 - loss: 0.7571 - val_accuracy: 0.7237 - val_loss: 0.8084\n",
            "Epoch 13/15\n",
            "625/625 - 3s - 4ms/step - accuracy: 0.7424 - loss: 0.7267 - val_accuracy: 0.7320 - val_loss: 0.8017\n",
            "Epoch 14/15\n",
            "625/625 - 3s - 4ms/step - accuracy: 0.7521 - loss: 0.6873 - val_accuracy: 0.7265 - val_loss: 0.8316\n",
            "Epoch 15/15\n",
            "625/625 - 3s - 4ms/step - accuracy: 0.7581 - loss: 0.6718 - val_accuracy: 0.7351 - val_loss: 0.8043\n"
          ]
        }
      ]
    },
    {
      "cell_type": "code",
      "source": [
        "# Save model to disk\n",
        "os.makedirs('saved_model', exist_ok=True)\n",
        "model.save('saved_model/cifar10_cnn_model.h5')\n",
        "print(\"Saved trained model to 'saved_model/cifar10_cnn_model.h5'\")"
      ],
      "metadata": {
        "colab": {
          "base_uri": "https://localhost:8080/"
        },
        "id": "crcI5McnW8--",
        "outputId": "32556994-649e-49bc-9efb-37ad4651f376"
      },
      "execution_count": 8,
      "outputs": [
        {
          "output_type": "stream",
          "name": "stderr",
          "text": [
            "WARNING:absl:You are saving your model as an HDF5 file via `model.save()` or `keras.saving.save_model(model)`. This file format is considered legacy. We recommend using instead the native Keras format, e.g. `model.save('my_model.keras')` or `keras.saving.save_model(model, 'my_model.keras')`. \n"
          ]
        },
        {
          "output_type": "stream",
          "name": "stdout",
          "text": [
            "Saved trained model to 'saved_model/cifar10_cnn_model.h5'\n"
          ]
        }
      ]
    },
    {
      "cell_type": "code",
      "source": [
        "# Evaluate and print test accuracy\n",
        "test_loss, test_acc = model.evaluate(x_test, y_test_ohe, verbose=0)\n",
        "print(f\"Test accuracy: {test_acc:.3f}\")"
      ],
      "metadata": {
        "colab": {
          "base_uri": "https://localhost:8080/"
        },
        "id": "X2z07A96W_AY",
        "outputId": "3476724a-3465-4fef-b40e-cca1567d8440"
      },
      "execution_count": 9,
      "outputs": [
        {
          "output_type": "stream",
          "name": "stdout",
          "text": [
            "Test accuracy: 0.729\n"
          ]
        }
      ]
    },
    {
      "cell_type": "code",
      "source": [
        "# Plot training and validation accuracy and save the figure\n",
        "plt.plot(history.history['accuracy'], label='train accuracy')\n",
        "plt.plot(history.history['val_accuracy'], label='validation accuracy')\n",
        "plt.xlabel('Epoch')\n",
        "plt.ylabel('Accuracy')\n",
        "plt.legend()\n",
        "plt.title('Model Accuracy')\n",
        "plt.savefig('saved_model/training_validation_accuracy.png')\n",
        "plt.show()\n",
        "print(\"Saved accuracy plot as 'saved_model/training_validation_accuracy.png'\")"
      ],
      "metadata": {
        "colab": {
          "base_uri": "https://localhost:8080/",
          "height": 489
        },
        "id": "DaNw22V6XA5O",
        "outputId": "19a21b43-4f7c-4725-f99d-d3acfec42203"
      },
      "execution_count": 10,
      "outputs": [
        {
          "output_type": "display_data",
          "data": {
            "text/plain": [
              "<Figure size 640x480 with 1 Axes>"
            ],
            "image/png": "[encoded data removed]"
          },
          "metadata": {}
        },
        {
          "output_type": "stream",
          "name": "stdout",
          "text": [
            "Saved accuracy plot as 'saved_model/training_validation_accuracy.png'\n"
          ]
        }
      ]
    }
  ]
}
